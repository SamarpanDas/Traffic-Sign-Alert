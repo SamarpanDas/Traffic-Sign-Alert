{
 "cells": [
  {
   "cell_type": "markdown",
   "metadata": {},
   "source": [
    "# # START"
   ]
  },
  {
   "cell_type": "code",
   "execution_count": 1,
   "metadata": {},
   "outputs": [],
   "source": [
    "import os"
   ]
  },
  {
   "cell_type": "markdown",
   "metadata": {},
   "source": [
    "# Loading & Examining the DataSet"
   ]
  },
  {
   "cell_type": "code",
   "execution_count": 98,
   "metadata": {},
   "outputs": [
    {
     "name": "stdout",
     "output_type": "stream",
     "text": [
      "3\n",
      "44\n",
      "44\n",
      "class  0  is  61\n",
      "class  1  is  720\n",
      "class  2  is  750\n",
      "class  3  is  450\n",
      "class  4  is  660\n",
      "class  5  is  630\n",
      "class  6  is  150\n",
      "class  7  is  450\n",
      "class  8  is  450\n",
      "class  9  is  480\n",
      "class  10  is  661\n",
      "class  11  is  420\n",
      "class  12  is  690\n",
      "class  13  is  720\n",
      "class  14  is  270\n",
      "class  15  is  210\n",
      "class  16  is  150\n",
      "class  17  is  360\n",
      "class  18  is  390\n",
      "class  19  is  60\n",
      "class  20  is  90\n",
      "class  21  is  90\n",
      "class  22  is  120\n",
      "class  23  is  150\n",
      "class  24  is  90\n",
      "class  25  is  480\n",
      "class  26  is  180\n",
      "class  27  is  60\n",
      "class  28  is  150\n",
      "class  29  is  90\n",
      "class  30  is  150\n",
      "class  31  is  270\n",
      "class  32  is  60\n",
      "class  33  is  210\n",
      "class  34  is  120\n",
      "class  35  is  390\n",
      "class  36  is  120\n",
      "class  37  is  60\n",
      "class  38  is  690\n",
      "class  39  is  90\n",
      "class  40  is  90\n",
      "class  41  is  60\n",
      "class  42  is  90\n"
     ]
    }
   ],
   "source": [
    "print(len(os.listdir('Traffic/traffic/')))\n",
    "print(len(os.listdir('Traffic/traffic/Train/')))\n",
    "print(len(os.listdir('Traffic/traffic/Test/')))\n",
    "\n",
    "\n",
    "'''\n",
    "# Info about the training set\n",
    "\n",
    "for i in range(0, 43):\n",
    "    a = str(i)\n",
    "    path = 'Traffic/traffic/Train/' + str(i) + \"/\"\n",
    "    print(\"class \" , i , \" is \" , len(os.listdir(path)))\n",
    "'''\n",
    "\n",
    "\n",
    "for i in range(0, 43):\n",
    "    a = str(i)\n",
    "    path = 'Traffic/traffic/Test/' + str(i) + \"/\"\n",
    "    print(\"class \" , i , \" is \" , len(os.listdir(path)))\n"
   ]
  },
  {
   "cell_type": "code",
   "execution_count": 101,
   "metadata": {},
   "outputs": [
    {
     "name": "stdout",
     "output_type": "stream",
     "text": [
      "['.DS_Store', 'Test', 'Train']\n",
      "Train\n",
      "['32', '35', '34', '33', '.DS_Store', '20', '18', '27', '9', '0', '11', '7', '29', '16', '42', '6', '28', '17', '1', '10', '19', '26', '8', '21', '38', '36', '31', '30', '37', '39', '41', '24', '23', '4', '15', '3', '12', '40', '2', '13', '5', '14', '22', '25']\n",
      "Test\n",
      "['32', '35', '34', '33', '.DS_Store', '20', '18', '27', '9', '0', '11', '7', '29', '16', '42', '6', '28', '17', '1', '10', '19', '26', '8', '21', '38', '36', '31', '30', '37', '39', '41', '24', '23', '4', '15', '3', '12', '40', '2', '13', '5', '14', '22', '25']\n"
     ]
    }
   ],
   "source": [
    "print(os.listdir('Traffic/traffic/'))\n",
    "\n",
    "print(\"Train\")\n",
    "print(os.listdir('Traffic/traffic/Train/'))\n",
    "\n",
    "print(\"Test\")\n",
    "print(os.listdir('Traffic/traffic/Test/'))\n",
    "\n"
   ]
  },
  {
   "cell_type": "code",
   "execution_count": 3,
   "metadata": {},
   "outputs": [],
   "source": [
    "base_dir = 'Traffic/traffic'\n",
    "\n",
    "train_dir = os.path.join(base_dir, 'Train')\n",
    "validation_dir = os.path.join(base_dir, 'Test')\n",
    "\n",
    "\n",
    "\n"
   ]
  },
  {
   "cell_type": "markdown",
   "metadata": {},
   "source": [
    "......."
   ]
  },
  {
   "cell_type": "markdown",
   "metadata": {},
   "source": [
    "....."
   ]
  },
  {
   "cell_type": "markdown",
   "metadata": {},
   "source": [
    "........."
   ]
  },
  {
   "cell_type": "markdown",
   "metadata": {},
   "source": [
    "#                                      # MODEL ARCHITECTURES"
   ]
  },
  {
   "cell_type": "code",
   "execution_count": 4,
   "metadata": {},
   "outputs": [],
   "source": [
    "import tensorflow as tf"
   ]
  },
  {
   "cell_type": "markdown",
   "metadata": {},
   "source": [
    "# modelV1"
   ]
  },
  {
   "cell_type": "markdown",
   "metadata": {},
   "source": [
    "Model Arcitecture   ::::: model == modelV1"
   ]
  },
  {
   "cell_type": "code",
   "execution_count": 49,
   "metadata": {},
   "outputs": [],
   "source": [
    "model = tf.keras.models.Sequential([\n",
    "    \n",
    "    tf.keras.layers.Conv2D(16, (3,3), activation='relu', input_shape=(150, 150, 3)),\n",
    "    tf.keras.layers.MaxPooling2D(2,2),\n",
    "    tf.keras.layers.Conv2D(32, (3,3), activation='relu'),\n",
    "    tf.keras.layers.MaxPooling2D(2,2), \n",
    "    tf.keras.layers.Conv2D(64, (3,3), activation='relu'), \n",
    "    tf.keras.layers.MaxPooling2D(2,2),\n",
    "    # Flatten the results to feed into a DNN\n",
    "    tf.keras.layers.Flatten(), \n",
    "    # 512 neuron hidden layer\n",
    "    tf.keras.layers.Dense(512, activation='relu'), \n",
    "    \n",
    "    tf.keras.layers.Dense(43, activation='softmax')  \n",
    "])"
   ]
  },
  {
   "cell_type": "markdown",
   "metadata": {},
   "source": [
    "Model Summary"
   ]
  },
  {
   "cell_type": "code",
   "execution_count": 32,
   "metadata": {},
   "outputs": [
    {
     "name": "stdout",
     "output_type": "stream",
     "text": [
      "Model: \"sequential_1\"\n",
      "_________________________________________________________________\n",
      "Layer (type)                 Output Shape              Param #   \n",
      "=================================================================\n",
      "conv2d_3 (Conv2D)            (None, 148, 148, 16)      448       \n",
      "_________________________________________________________________\n",
      "max_pooling2d_3 (MaxPooling2 (None, 74, 74, 16)        0         \n",
      "_________________________________________________________________\n",
      "conv2d_4 (Conv2D)            (None, 72, 72, 32)        4640      \n",
      "_________________________________________________________________\n",
      "max_pooling2d_4 (MaxPooling2 (None, 36, 36, 32)        0         \n",
      "_________________________________________________________________\n",
      "conv2d_5 (Conv2D)            (None, 34, 34, 64)        18496     \n",
      "_________________________________________________________________\n",
      "max_pooling2d_5 (MaxPooling2 (None, 17, 17, 64)        0         \n",
      "_________________________________________________________________\n",
      "flatten_1 (Flatten)          (None, 18496)             0         \n",
      "_________________________________________________________________\n",
      "dense_2 (Dense)              (None, 512)               9470464   \n",
      "_________________________________________________________________\n",
      "dense_3 (Dense)              (None, 43)                22059     \n",
      "=================================================================\n",
      "Total params: 9,516,107\n",
      "Trainable params: 9,516,107\n",
      "Non-trainable params: 0\n",
      "_________________________________________________________________\n"
     ]
    }
   ],
   "source": [
    "model.summary()"
   ]
  },
  {
   "cell_type": "code",
   "execution_count": 46,
   "metadata": {},
   "outputs": [],
   "source": [
    "model.compile(loss = \"categorical_crossentropy\", optimizer = \"adam\", metrics = [\"accuracy\"])"
   ]
  },
  {
   "cell_type": "markdown",
   "metadata": {},
   "source": [
    "....."
   ]
  },
  {
   "cell_type": "markdown",
   "metadata": {},
   "source": [
    "# modelV2 "
   ]
  },
  {
   "cell_type": "markdown",
   "metadata": {},
   "source": [
    "Model Architecture\n",
    "\n",
    "\n",
    "V2 experiments with the dropout layer (changing the dropout rates)\n",
    "\n",
    "The dropout layer is placed before the last layer (softmax layer)"
   ]
  },
  {
   "cell_type": "code",
   "execution_count": 123,
   "metadata": {},
   "outputs": [],
   "source": [
    "modelV2 = tf.keras.models.Sequential([\n",
    "    \n",
    "    tf.keras.layers.Conv2D(16, (3,3), activation='relu', input_shape=(150, 150, 3)),\n",
    "    tf.keras.layers.MaxPooling2D(2,2),\n",
    "    tf.keras.layers.Conv2D(32, (3,3), activation='relu'),\n",
    "    tf.keras.layers.MaxPooling2D(2,2), \n",
    "    tf.keras.layers.Conv2D(64, (3,3), activation='relu'), \n",
    "    tf.keras.layers.MaxPooling2D(2,2),\n",
    "    # Flatten the results to feed into a DNN\n",
    "    tf.keras.layers.Flatten(), \n",
    "    # 512 neuron hidden layer\n",
    "    tf.keras.layers.Dense(512, activation='relu'), \n",
    "    \n",
    "    tf.keras.layers.Dropout(0.5),   # 0.55 dropout rate has been most successful till now\n",
    "    \n",
    "    tf.keras.layers.Dense(43, activation='softmax')  \n",
    "])"
   ]
  },
  {
   "cell_type": "markdown",
   "metadata": {},
   "source": [
    "Model Summary"
   ]
  },
  {
   "cell_type": "code",
   "execution_count": 124,
   "metadata": {},
   "outputs": [
    {
     "name": "stdout",
     "output_type": "stream",
     "text": [
      "Model: \"sequential_2\"\n",
      "_________________________________________________________________\n",
      "Layer (type)                 Output Shape              Param #   \n",
      "=================================================================\n",
      "conv2d_6 (Conv2D)            (None, 148, 148, 16)      448       \n",
      "_________________________________________________________________\n",
      "max_pooling2d_6 (MaxPooling2 (None, 74, 74, 16)        0         \n",
      "_________________________________________________________________\n",
      "conv2d_7 (Conv2D)            (None, 72, 72, 32)        4640      \n",
      "_________________________________________________________________\n",
      "max_pooling2d_7 (MaxPooling2 (None, 36, 36, 32)        0         \n",
      "_________________________________________________________________\n",
      "conv2d_8 (Conv2D)            (None, 34, 34, 64)        18496     \n",
      "_________________________________________________________________\n",
      "max_pooling2d_8 (MaxPooling2 (None, 17, 17, 64)        0         \n",
      "_________________________________________________________________\n",
      "flatten_2 (Flatten)          (None, 18496)             0         \n",
      "_________________________________________________________________\n",
      "dense_4 (Dense)              (None, 512)               9470464   \n",
      "_________________________________________________________________\n",
      "dropout_2 (Dropout)          (None, 512)               0         \n",
      "_________________________________________________________________\n",
      "dense_5 (Dense)              (None, 43)                22059     \n",
      "=================================================================\n",
      "Total params: 9,516,107\n",
      "Trainable params: 9,516,107\n",
      "Non-trainable params: 0\n",
      "_________________________________________________________________\n"
     ]
    }
   ],
   "source": [
    "modelV2.summary()"
   ]
  },
  {
   "cell_type": "code",
   "execution_count": 125,
   "metadata": {},
   "outputs": [],
   "source": [
    "modelV2.compile(loss = \"categorical_crossentropy\", optimizer = \"adam\", metrics = [\"accuracy\"])"
   ]
  },
  {
   "cell_type": "markdown",
   "metadata": {},
   "source": [
    "....."
   ]
  },
  {
   "cell_type": "markdown",
   "metadata": {},
   "source": [
    "......."
   ]
  },
  {
   "cell_type": "markdown",
   "metadata": {},
   "source": [
    "....."
   ]
  },
  {
   "cell_type": "markdown",
   "metadata": {},
   "source": [
    "# Callback function"
   ]
  },
  {
   "cell_type": "code",
   "execution_count": 127,
   "metadata": {},
   "outputs": [],
   "source": [
    "\n",
    "class myCallBack(tf.keras.callbacks.Callback):\n",
    "    def on_epoch_end(self, epoch, logs = {}):\n",
    "        if(logs.get(\"accuracy\") > 0.998):\n",
    "            print(\"\\n Reached Desired Accuracy, so terminating training !! \")\n",
    "            self.model.stop_training = True\n",
    "            \n",
    "            \n",
    "callbacks= myCallBack()\n"
   ]
  },
  {
   "cell_type": "markdown",
   "metadata": {},
   "source": [
    "......"
   ]
  },
  {
   "cell_type": "markdown",
   "metadata": {},
   "source": [
    "......"
   ]
  },
  {
   "cell_type": "markdown",
   "metadata": {},
   "source": [
    "# Data Preprocessing"
   ]
  },
  {
   "cell_type": "code",
   "execution_count": 128,
   "metadata": {},
   "outputs": [
    {
     "name": "stdout",
     "output_type": "stream",
     "text": [
      "Found 39209 images belonging to 43 classes.\n",
      "Found 12630 images belonging to 43 classes.\n"
     ]
    },
    {
     "data": {
      "text/plain": [
       "'\\nOutput : \\nFound 39209 images belonging to 43 classes.\\nFound 12630 images belonging to 43 classes.\\n'"
      ]
     },
     "execution_count": 128,
     "metadata": {},
     "output_type": "execute_result"
    }
   ],
   "source": [
    "from tensorflow.keras.preprocessing.image import ImageDataGenerator\n",
    "\n",
    "# All images will be rescaled by 1./255.\n",
    "train_datagen = ImageDataGenerator( rescale = 1.0/255)\n",
    "test_datagen  = ImageDataGenerator( rescale = 1.0/255)\n",
    "\n",
    "# --------------------\n",
    "# Flow training images in batches of 20 using train_datagen generator\n",
    "# --------------------\n",
    "train_generator = train_datagen.flow_from_directory(train_dir,\n",
    "                                                    #batch_size=20,\n",
    "                                                    class_mode='categorical',\n",
    "                                                    target_size=(150, 150))     \n",
    "# --------------------\n",
    "# Flow validation images in batches of 20 using test_datagen generator\n",
    "# --------------------\n",
    "validation_generator =  test_datagen.flow_from_directory(validation_dir,\n",
    "                                                         #batch_size=20,\n",
    "                                                         class_mode  = 'categorical',\n",
    "                                                         target_size = (150, 150))\n",
    "\n",
    "'''\n",
    "Output : \n",
    "Found 39209 images belonging to 43 classes.\n",
    "Found 12630 images belonging to 43 classes.\n",
    "'''"
   ]
  },
  {
   "cell_type": "markdown",
   "metadata": {},
   "source": [
    "......"
   ]
  },
  {
   "cell_type": "markdown",
   "metadata": {},
   "source": [
    "......"
   ]
  },
  {
   "cell_type": "markdown",
   "metadata": {},
   "source": [
    "# FITTING & EVALUATING MODELS"
   ]
  },
  {
   "cell_type": "markdown",
   "metadata": {},
   "source": [
    "# modelV1 "
   ]
  },
  {
   "cell_type": "code",
   "execution_count": 48,
   "metadata": {},
   "outputs": [
    {
     "name": "stdout",
     "output_type": "stream",
     "text": [
      "Epoch 1/5\n",
      "1226/1226 [==============================] - 594s 485ms/step - loss: 0.5396 - accuracy: 0.8486 - val_loss: 0.3475 - val_accuracy: 0.9138\n",
      "Epoch 2/5\n",
      "1226/1226 [==============================] - 589s 480ms/step - loss: 0.0797 - accuracy: 0.9782 - val_loss: 0.3118 - val_accuracy: 0.9279\n",
      "Epoch 3/5\n",
      "1226/1226 [==============================] - 599s 489ms/step - loss: 0.0422 - accuracy: 0.9878 - val_loss: 0.4086 - val_accuracy: 0.9268\n",
      "Epoch 4/5\n",
      "1226/1226 [==============================] - 610s 498ms/step - loss: 0.0329 - accuracy: 0.9906 - val_loss: 0.4541 - val_accuracy: 0.9217\n",
      "Epoch 5/5\n",
      "1226/1226 [==============================] - 673s 549ms/step - loss: 0.0198 - accuracy: 0.9939 - val_loss: 0.3837 - val_accuracy: 0.9285\n"
     ]
    }
   ],
   "source": [
    "history = model.fit (\n",
    "                         train_generator,\n",
    "                         validation_data = validation_generator,\n",
    "                         epochs = 5,\n",
    "                         verbose = 1\n",
    ")\n",
    "\n",
    "'''\n",
    "history = model.fit (\n",
    "                         train_generator,\n",
    "                         validation_data = validation_generator,\n",
    "                         epochs = 5,\n",
    "                         callbacks = [callbacks],\n",
    "                         verbose = 1\n",
    ")\n",
    "\n",
    "'''"
   ]
  },
  {
   "cell_type": "markdown",
   "metadata": {},
   "source": [
    "....."
   ]
  },
  {
   "cell_type": "markdown",
   "metadata": {},
   "source": [
    "# modelV2"
   ]
  },
  {
   "cell_type": "code",
   "execution_count": 129,
   "metadata": {},
   "outputs": [
    {
     "name": "stdout",
     "output_type": "stream",
     "text": [
      "Epoch 1/20\n",
      "1226/1226 [==============================] - 579s 473ms/step - loss: 0.8508 - accuracy: 0.7522 - val_loss: 0.3478 - val_accuracy: 0.8957\n",
      "Epoch 2/20\n",
      "1226/1226 [==============================] - 570s 465ms/step - loss: 0.1528 - accuracy: 0.9540 - val_loss: 0.2707 - val_accuracy: 0.9236\n",
      "Epoch 3/20\n",
      "1226/1226 [==============================] - 614s 501ms/step - loss: 0.0856 - accuracy: 0.9739 - val_loss: 0.2481 - val_accuracy: 0.9317\n",
      "Epoch 4/20\n",
      "1226/1226 [==============================] - 605s 493ms/step - loss: 0.0661 - accuracy: 0.9794 - val_loss: 0.2007 - val_accuracy: 0.9459\n",
      "Epoch 5/20\n",
      "1226/1226 [==============================] - 591s 482ms/step - loss: 0.0494 - accuracy: 0.9849 - val_loss: 0.2074 - val_accuracy: 0.9477\n",
      "Epoch 6/20\n",
      "1226/1226 [==============================] - 588s 479ms/step - loss: 0.0436 - accuracy: 0.9865 - val_loss: 0.1608 - val_accuracy: 0.9574\n",
      "Epoch 7/20\n",
      "1226/1226 [==============================] - 590s 482ms/step - loss: 0.0418 - accuracy: 0.9879 - val_loss: 0.2615 - val_accuracy: 0.9394\n",
      "Epoch 8/20\n",
      "1226/1226 [==============================] - 588s 480ms/step - loss: 0.0325 - accuracy: 0.9902 - val_loss: 0.2518 - val_accuracy: 0.9459\n",
      "Epoch 9/20\n",
      "1226/1226 [==============================] - 585s 477ms/step - loss: 0.0320 - accuracy: 0.9905 - val_loss: 0.1899 - val_accuracy: 0.9565\n",
      "Epoch 10/20\n",
      "1226/1226 [==============================] - 1759s 1s/step - loss: 0.0278 - accuracy: 0.9921 - val_loss: 0.1998 - val_accuracy: 0.9583\n",
      "Epoch 11/20\n",
      "1226/1226 [==============================] - 590s 481ms/step - loss: 0.0271 - accuracy: 0.9921 - val_loss: 0.2725 - val_accuracy: 0.9454\n",
      "Epoch 12/20\n",
      "1226/1226 [==============================] - 10566s 9s/step - loss: 0.0295 - accuracy: 0.9915 - val_loss: 0.2128 - val_accuracy: 0.9533\n",
      "Epoch 13/20\n",
      "1226/1226 [==============================] - 571s 466ms/step - loss: 0.0199 - accuracy: 0.9943 - val_loss: 0.1902 - val_accuracy: 0.9643\n",
      "Epoch 14/20\n",
      "1226/1226 [==============================] - 570s 465ms/step - loss: 0.0227 - accuracy: 0.9942 - val_loss: 0.2141 - val_accuracy: 0.9609\n",
      "Epoch 15/20\n",
      "1226/1226 [==============================] - 570s 465ms/step - loss: 0.0286 - accuracy: 0.9917 - val_loss: 0.2554 - val_accuracy: 0.9542\n",
      "Epoch 16/20\n",
      "1226/1226 [==============================] - 570s 465ms/step - loss: 0.0240 - accuracy: 0.9937 - val_loss: 0.2035 - val_accuracy: 0.9666\n",
      "Epoch 17/20\n",
      "1226/1226 [==============================] - 603s 492ms/step - loss: 0.0237 - accuracy: 0.9940 - val_loss: 0.1949 - val_accuracy: 0.9644\n",
      "Epoch 18/20\n",
      "1226/1226 [==============================] - 645s 526ms/step - loss: 0.0177 - accuracy: 0.9951 - val_loss: 0.2183 - val_accuracy: 0.9612\n",
      "Epoch 19/20\n",
      "1226/1226 [==============================] - 660s 539ms/step - loss: 0.0201 - accuracy: 0.9946 - val_loss: 0.2414 - val_accuracy: 0.9607\n",
      "Epoch 20/20\n",
      "1226/1226 [==============================] - 618s 504ms/step - loss: 0.0238 - accuracy: 0.9946 - val_loss: 0.2259 - val_accuracy: 0.9577\n"
     ]
    }
   ],
   "source": [
    "# initiallly modelV2 had dropout rate 0.2\n",
    "# dropout rate of 0.4 performed better than 0.2 (taken 6 epochs)\n",
    "# dropout rate of 0.55 was best for 6 epochs, so going for more epochs\n",
    "\n",
    "\n",
    "\n",
    "\n",
    "# trying 20 epochs for 0.5 dropout\n",
    "historyV2 = modelV2.fit (\n",
    "                         train_generator,\n",
    "                         validation_data = validation_generator,\n",
    "                         epochs = 20,\n",
    "                         callbacks = [callbacks],\n",
    "                         verbose = 1\n",
    ")"
   ]
  },
  {
   "cell_type": "markdown",
   "metadata": {},
   "source": [
    "...."
   ]
  },
  {
   "cell_type": "markdown",
   "metadata": {},
   "source": [
    "...."
   ]
  },
  {
   "cell_type": "markdown",
   "metadata": {},
   "source": [
    "......"
   ]
  },
  {
   "cell_type": "markdown",
   "metadata": {},
   "source": [
    "# PLOTTING THE RESULTS"
   ]
  },
  {
   "cell_type": "markdown",
   "metadata": {},
   "source": [
    "Red represents Training set\n",
    "\n",
    "\n",
    "\n",
    "Blue represents Validation set "
   ]
  },
  {
   "cell_type": "code",
   "execution_count": 11,
   "metadata": {},
   "outputs": [],
   "source": [
    "import matplotlib.image  as mpimg\n",
    "import matplotlib.pyplot as plt"
   ]
  },
  {
   "cell_type": "markdown",
   "metadata": {},
   "source": [
    "# modelV1"
   ]
  },
  {
   "cell_type": "code",
   "execution_count": 57,
   "metadata": {},
   "outputs": [
    {
     "data": {
      "text/plain": [
       "Text(0.5, 1.0, 'Training and validation loss')"
      ]
     },
     "execution_count": 57,
     "metadata": {},
     "output_type": "execute_result"
    },
    {
     "data": {
      "image/png": "[encoded data removed]",
      "text/plain": [
       "<Figure size 432x288 with 1 Axes>"
      ]
     },
     "metadata": {
      "needs_background": "light"
     },
     "output_type": "display_data"
    },
    {
     "data": {
      "image/png": "[encoded data removed]",
      "text/plain": [
       "<Figure size 432x288 with 1 Axes>"
      ]
     },
     "metadata": {
      "needs_background": "light"
     },
     "output_type": "display_data"
    }
   ],
   "source": [
    "# PLOT LOSS AND ACCURACY\n",
    "%matplotlib inline\n",
    "\n",
    "\n",
    "#-----------------------------------------------------------\n",
    "# Retrieve a list of list results on training and test data\n",
    "# sets for each training epoch\n",
    "#-----------------------------------------------------------\n",
    "acc=history.history['accuracy']\n",
    "val_acc=history.history['val_accuracy']\n",
    "loss=history.history['loss']\n",
    "val_loss=history.history['val_loss']\n",
    "\n",
    "epochs=range(len(acc)) # Get number of epochs\n",
    "\n",
    "#------------------------------------------------\n",
    "# Plot training and validation accuracy per epoch\n",
    "#------------------------------------------------\n",
    "plt.plot(epochs, acc, 'r', \"Training Accuracy\")\n",
    "plt.plot(epochs, val_acc, 'b', \"Validation Accuracy\")\n",
    "plt.title('Training and validation accuracy')\n",
    "plt.figure()\n",
    "\n",
    "#------------------------------------------------\n",
    "# Plot training and validation loss per epoch\n",
    "#------------------------------------------------\n",
    "plt.plot(epochs, loss, 'r', \"Training Loss\")\n",
    "plt.plot(epochs, val_loss, 'b', \"Validation Loss\")\n",
    "\n",
    "\n",
    "plt.title('Training and validation loss')\n",
    "\n",
    "# Desired output. Charts with training and validation metrics. No crash :)"
   ]
  },
  {
   "cell_type": "markdown",
   "metadata": {},
   "source": [
    "......"
   ]
  },
  {
   "cell_type": "markdown",
   "metadata": {},
   "source": [
    "# modelV2"
   ]
  },
  {
   "cell_type": "code",
   "execution_count": 130,
   "metadata": {},
   "outputs": [
    {
     "data": {
      "text/plain": [
       "Text(0.5, 1.0, 'Training and validation loss')"
      ]
     },
     "execution_count": 130,
     "metadata": {},
     "output_type": "execute_result"
    },
    {
     "data": {
      "image/png": "[encoded data removed]",
      "text/plain": [
       "<Figure size 432x288 with 1 Axes>"
      ]
     },
     "metadata": {
      "needs_background": "light"
     },
     "output_type": "display_data"
    },
    {
     "data": {
      "image/png": "[encoded data removed]",
      "text/plain": [
       "<Figure size 432x288 with 1 Axes>"
      ]
     },
     "metadata": {
      "needs_background": "light"
     },
     "output_type": "display_data"
    }
   ],
   "source": [
    "# PLOT LOSS AND ACCURACY\n",
    "%matplotlib inline\n",
    "\n",
    "#-----------------------------------------------------------\n",
    "# Retrieve a list of list results on training and test data\n",
    "# sets for each training epoch\n",
    "#-----------------------------------------------------------\n",
    "acc=historyV2.history['accuracy']\n",
    "val_acc=historyV2.history['val_accuracy']\n",
    "loss=historyV2.history['loss']\n",
    "val_loss=historyV2.history['val_loss']\n",
    "\n",
    "epochs=range(len(acc)) # Get number of epochs\n",
    "\n",
    "#------------------------------------------------\n",
    "# Plot training and validation accuracy per epoch\n",
    "#------------------------------------------------\n",
    "plt.plot(epochs, acc, 'r', \"Training Accuracy\")\n",
    "plt.plot(epochs, val_acc, 'b', \"Validation Accuracy\")\n",
    "plt.title('Training and validation accuracy')\n",
    "plt.figure()\n",
    "\n",
    "#------------------------------------------------\n",
    "# Plot training and validation loss per epoch\n",
    "#------------------------------------------------\n",
    "plt.plot(epochs, loss, 'r', \"Training Loss\")\n",
    "plt.plot(epochs, val_loss, 'b', \"Validation Loss\")\n",
    "\n",
    "\n",
    "plt.title('Training and validation loss')\n",
    "\n",
    "# Desired output. Charts with training and validation metrics. No crash :)"
   ]
  },
  {
   "cell_type": "markdown",
   "metadata": {},
   "source": [
    "......"
   ]
  },
  {
   "cell_type": "markdown",
   "metadata": {},
   "source": [
    "......"
   ]
  },
  {
   "cell_type": "markdown",
   "metadata": {},
   "source": [
    "....."
   ]
  },
  {
   "cell_type": "markdown",
   "metadata": {},
   "source": [
    "# SAVING & LOADING MODEL"
   ]
  },
  {
   "cell_type": "code",
   "execution_count": 22,
   "metadata": {},
   "outputs": [],
   "source": [
    "#from tensorflow import keras"
   ]
  },
  {
   "cell_type": "markdown",
   "metadata": {},
   "source": [
    "# modelV2"
   ]
  },
  {
   "cell_type": "markdown",
   "metadata": {},
   "source": [
    "Saving the model to the specified path"
   ]
  },
  {
   "cell_type": "code",
   "execution_count": 2,
   "metadata": {},
   "outputs": [],
   "source": [
    "#modelV2.save(\"modelV2\")"
   ]
  },
  {
   "cell_type": "markdown",
   "metadata": {},
   "source": [
    "Code for reloading the model"
   ]
  },
  {
   "cell_type": "code",
   "execution_count": 3,
   "metadata": {},
   "outputs": [],
   "source": [
    "#modelV2 = keras.models.load_model(\"modelV2\")"
   ]
  },
  {
   "cell_type": "markdown",
   "metadata": {},
   "source": [
    "....."
   ]
  },
  {
   "cell_type": "markdown",
   "metadata": {},
   "source": [
    "......"
   ]
  },
  {
   "cell_type": "markdown",
   "metadata": {},
   "source": [
    "......."
   ]
  },
  {
   "cell_type": "markdown",
   "metadata": {},
   "source": [
    "# TESTING for Individual Images"
   ]
  },
  {
   "cell_type": "code",
   "execution_count": 70,
   "metadata": {},
   "outputs": [],
   "source": [
    "#from tensorflow import keras\n",
    "#from IPython.display import Image\n",
    "from tensorflow.keras.preprocessing import image\n",
    "import numpy as np"
   ]
  },
  {
   "cell_type": "code",
   "execution_count": 72,
   "metadata": {},
   "outputs": [],
   "source": []
  },
  {
   "cell_type": "code",
   "execution_count": 122,
   "metadata": {},
   "outputs": [
    {
     "name": "stdout",
     "output_type": "stream",
     "text": [
      "23\n",
      "[[0. 0. 0. 0. 0. 0. 0. 0. 0. 0. 0. 0. 0. 0. 0. 0. 0. 0. 0. 0. 0. 0. 0. 1.\n",
      "  0. 0. 0. 0. 0. 0. 0. 0. 0. 0. 0. 0. 0. 0. 0. 0. 0. 0. 0.]]\n"
     ]
    }
   ],
   "source": [
    "image_path = '03967.png'  # insert the path of the image to be tested\n",
    "\n",
    "# option 1\n",
    "\n",
    "\n",
    "# dimensions of our images\n",
    "img_width, img_height = 150, 150     # set as per earlier convention\n",
    "\n",
    "\n",
    "modelV2.compile(loss = \"categorical_crossentropy\", optimizer = \"adam\", metrics = [\"accuracy\"])\n",
    "\n",
    "# predicting images\n",
    "img = image.load_img(image_path, target_size = (img_width, img_height))\n",
    "x = image.img_to_array(img)\n",
    "x = np.expand_dims(x, axis=0)\n",
    "\n",
    "images = np.vstack([x])\n",
    "classes = modelV2.predict_classes(images)\n",
    "print(classes[0])\n",
    "\n",
    "pred = modelV2.predict(images)\n",
    "print(pred)\n",
    "#print()"
   ]
  },
  {
   "cell_type": "markdown",
   "metadata": {},
   "source": [
    "......"
   ]
  },
  {
   "cell_type": "markdown",
   "metadata": {},
   "source": [
    "......."
   ]
  },
  {
   "cell_type": "code",
   "execution_count": null,
   "metadata": {},
   "outputs": [],
   "source": []
  }
 ],
 "metadata": {
  "kernelspec": {
   "display_name": "Python 3",
   "language": "python",
   "name": "python3"
  },
  "language_info": {
   "codemirror_mode": {
    "name": "ipython",
    "version": 3
   },
   "file_extension": ".py",
   "mimetype": "text/x-python",
   "name": "python",
   "nbconvert_exporter": "python",
   "pygments_lexer": "ipython3",
   "version": "3.7.6"
  }
 },
 "nbformat": 4,
 "nbformat_minor": 4
}
