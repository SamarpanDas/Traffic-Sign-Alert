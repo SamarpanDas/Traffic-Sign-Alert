{
 "cells": [
  {
   "cell_type": "markdown",
   "metadata": {},
   "source": [
    "# Code for creating a test set that contains subfolders of the classes which contain their respective images from the original test set"
   ]
  },
  {
   "cell_type": "markdown",
   "metadata": {},
   "source": [
    "This code is for creating a train_sep (usable version of the test folder) folder that will consist of subfolders of the different classes and these subfolders will contain images of the test folder properly divided into classes instead of the randomly jumbled format present in the original data set"
   ]
  },
  {
   "cell_type": "code",
   "execution_count": 1,
   "metadata": {},
   "outputs": [],
   "source": [
    "from __future__ import print_function\n",
    "import pandas as pd\n",
    "import shutil\n",
    "import os\n",
    "import sys"
   ]
  },
  {
   "cell_type": "markdown",
   "metadata": {},
   "source": [
    "Note : The Test.csv file has been modified to contain only 2 columns :\n",
    "       \n",
    "       \n",
    "       A. column that constains the classId of an image\n",
    "       B. column that has the path of the file of the image"
   ]
  },
  {
   "cell_type": "code",
   "execution_count": 14,
   "metadata": {},
   "outputs": [],
   "source": [
    "labels = pd.read_csv('Traffic/Test.csv')"
   ]
  },
  {
   "cell_type": "code",
   "execution_count": 31,
   "metadata": {},
   "outputs": [
    {
     "name": "stdout",
     "output_type": "stream",
     "text": [
      "[[16 'Test/00000.png']\n",
      " [1 'Test/00001.png']\n",
      " [38 'Test/00002.png']\n",
      " ...\n",
      " [6 'Test/12627.png']\n",
      " [7 'Test/12628.png']\n",
      " [10 'Test/12629.png']]\n"
     ]
    }
   ],
   "source": [
    "print(labels.values)"
   ]
  },
  {
   "cell_type": "code",
   "execution_count": 32,
   "metadata": {},
   "outputs": [],
   "source": [
    "train_dir = 'Traffic/'\n",
    "train_sep_dir = 'train_sep/'\n",
    "if not os.path.exists(train_sep_dir):\n",
    "    os.mkdir(train_sep_dir)"
   ]
  },
  {
   "cell_type": "code",
   "execution_count": 57,
   "metadata": {},
   "outputs": [],
   "source": [
    "#print(labels.values)\n",
    "for class_name, filename in labels.values:\n",
    "    # Create subdirectory with `class_name`\n",
    "    if not os.path.exists(train_sep_dir + str(class_name)):\n",
    "        os.mkdir(train_sep_dir + str(class_name))\n",
    "    src_path = train_dir + filename\n",
    "    test_str = filename\n",
    "    res = test_str.split('/', 1)[1] \n",
    "    dst_path = train_sep_dir + str(class_name) + '/' + res\n",
    "    \n",
    "    \n",
    "    try:\n",
    "        shutil.copy(src_path, dst_path)\n",
    "        \n",
    "    except IOError as e:\n",
    "        print('Unable to copy file {} to {}'\n",
    "              .format(src_path, dst_path))\n",
    "        \n",
    "    except:\n",
    "        print('When try copy file {} to {}, unexpected error: {}'\n",
    "              .format(src_path, dst_path, sys.exc_info()))\n",
    "    "
   ]
  },
  {
   "cell_type": "markdown",
   "metadata": {},
   "source": [
    "# Rough"
   ]
  },
  {
   "cell_type": "code",
   "execution_count": 56,
   "metadata": {},
   "outputs": [],
   "source": [
    "try:\n",
    "    shutil.copy(src_path, dst_path)\n",
    "        \n",
    "except IOError as e:\n",
    "    print('Unable to copy file {} to {}'\n",
    "          .format(src_path, dst_path))\n",
    "        \n",
    "except:\n",
    "    print('When try copy file {} to {}, unexpected error: {}'\n",
    "          .format(src_path, dst_path, sys.exc_info()))"
   ]
  },
  {
   "cell_type": "code",
   "execution_count": 54,
   "metadata": {},
   "outputs": [
    {
     "name": "stdout",
     "output_type": "stream",
     "text": [
      "The original string is : Test/12629.png\n",
      "The string after omitting first word is : 12629.png\n"
     ]
    }
   ],
   "source": [
    "test_str = \"Test/12629.png\"\n",
    "  \n",
    "# printing original string  \n",
    "print(\"The original string is : \" + test_str) \n",
    "  \n",
    "# Using split() \n",
    "# Removing Initial word from string \n",
    "res = test_str.split('/', 1)[1] \n",
    "  \n",
    "# printing result  \n",
    "print(\"The string after omitting first word is : \" + res) "
   ]
  },
  {
   "cell_type": "code",
   "execution_count": null,
   "metadata": {},
   "outputs": [],
   "source": []
  }
 ],
 "metadata": {
  "kernelspec": {
   "display_name": "Python 3",
   "language": "python",
   "name": "python3"
  },
  "language_info": {
   "codemirror_mode": {
    "name": "ipython",
    "version": 3
   },
   "file_extension": ".py",
   "mimetype": "text/x-python",
   "name": "python",
   "nbconvert_exporter": "python",
   "pygments_lexer": "ipython3",
   "version": "3.7.6"
  }
 },
 "nbformat": 4,
 "nbformat_minor": 4
}
